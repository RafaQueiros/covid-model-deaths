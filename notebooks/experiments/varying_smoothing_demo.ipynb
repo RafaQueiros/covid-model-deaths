{
 "cells": [
  {
   "cell_type": "markdown",
   "metadata": {},
   "source": [
    "## set up workspace"
   ]
  },
  {
   "cell_type": "code",
   "execution_count": null,
   "metadata": {},
   "outputs": [],
   "source": [
    "import warnings\n",
    "from datetime import timedelta\n",
    "\n",
    "import numpy as np\n",
    "import pandas as pd\n",
    "\n",
    "import matplotlib.pyplot as plt\n",
    "from matplotlib.backends.backend_pdf import PdfPages\n",
    "import seaborn as sns\n",
    "sns.set_style('whitegrid')\n",
    "\n",
    "from covid_model_deaths.preprocessing import expanding_moving_average_by_location\n",
    "from covid_model_deaths.data import add_moving_average_rates\n",
    "\n",
    "pd.options.display.max_rows = 99\n",
    "pd.options.display.max_columns = 99\n",
    "warnings.simplefilter('ignore')\n"
   ]
  },
  {
   "cell_type": "markdown",
   "metadata": {},
   "source": [
    "## load data and smooth"
   ]
  },
  {
   "cell_type": "code",
   "execution_count": null,
   "metadata": {},
   "outputs": [],
   "source": [
    "plot_loc = 526\n",
    "df = pd.read_csv('/ihme/covid-19/model-inputs/best/full_data.csv')\n",
    "df['Date'] = pd.to_datetime(df['Date'])\n",
    "df.loc[df['Death rate'] == 0, 'Death rate'] = 0.1 / df['population']\n",
    "df['ln(death rate)'] = np.log(df['Death rate'])\n",
    "df = df.loc[df['Country/Region'] == 'United States of America']\n",
    "df = df.loc[df['location_id'] != 102]\n",
    "df['location_id'] = df['location_id'].astype(int)\n",
    "df['Location'] = df['Province/State']\n",
    "df = df.loc[df['location_id'].isin([plot_loc, 561])].reset_index(drop=True)\n",
    "df['min_date'] = df.groupby('location_id', as_index=False).Date.transform(min)\n",
    "df['Days'] = df.apply(lambda x: (x['Date'] - x['min_date']).days, axis=1)\n",
    "df['max_days'] = df.groupby('location_id', as_index=False).Days.transform(max)\n",
    "\n",
    "plt.figure(figsize=(11, 8.5))\n",
    "plt.scatter(df.loc[df['location_id'] == plot_loc, 'Days'][1:], \n",
    "            df.loc[df['location_id'] == plot_loc, 'Deaths'].values[1:] - \\\n",
    "            df.loc[df['location_id'] == plot_loc, 'Deaths'].values[:-1],\n",
    "            s=100)\n",
    "for n_drop in range(7):\n",
    "    smooth_df = add_moving_average_rates(df.loc[df['Days'] <= df['max_days'] - n_drop], 'ln(death rate)', -np.inf, 10)\n",
    "    smooth_df = smooth_df.loc[smooth_df['location_id'] == plot_loc]\n",
    "    smooth_df['Deaths'] = np.exp(smooth_df['ln(death rate)']) * smooth_df['population']\n",
    "    plt.scatter(smooth_df['Days'][1:], \n",
    "                smooth_df['Deaths'].values[1:] - smooth_df['Deaths'].values[:-1],\n",
    "                s=100, alpha=0.5)\n",
    "plt.show()\n"
   ]
  },
  {
   "cell_type": "code",
   "execution_count": null,
   "metadata": {},
   "outputs": [],
   "source": [
    "plot_loc = 526\n",
    "df = pd.read_csv('/ihme/covid-19/model-inputs/best/full_data.csv')\n",
    "df['Date'] = pd.to_datetime(df['Date'])\n",
    "df.loc[df['Death rate'] == 0, 'Death rate'] = 0.1 / df['population']\n",
    "df['ln(death rate)'] = np.log(df['Death rate'])\n",
    "df = df.loc[df['Country/Region'] == 'United States of America']\n",
    "df = df.loc[df['location_id'] != 102]\n",
    "df['location_id'] = df['location_id'].astype(int)\n",
    "df['Location'] = df['Province/State']\n",
    "df = df.loc[df['location_id'].isin([plot_loc, 555])].reset_index(drop=True)\n",
    "df['min_date'] = df.groupby('location_id', as_index=False).Date.transform(min)\n",
    "df['Days'] = df.apply(lambda x: (x['Date'] - x['min_date']).days, axis=1)\n",
    "df['max_days'] = df.groupby('location_id', as_index=False).Days.transform(max)\n",
    "\n",
    "plt.figure(figsize=(11, 8.5))\n",
    "plt.scatter(df.loc[df['location_id'] == plot_loc, 'Days'][1:], \n",
    "            df.loc[df['location_id'] == plot_loc, 'Deaths'].values[1:] - \\\n",
    "            df.loc[df['location_id'] == plot_loc, 'Deaths'].values[:-1],\n",
    "            s=100)\n",
    "for n_drop in range(7):\n",
    "    smooth_df = add_moving_average_rates(df.loc[df['Days'] <= df['max_days'] - n_drop], 'ln(death rate)', -np.inf, 10)\n",
    "    smooth_df = smooth_df.loc[smooth_df['location_id'] == plot_loc]\n",
    "    smooth_df['Deaths'] = np.exp(smooth_df['ln(death rate)']) * smooth_df['population']\n",
    "    plt.scatter(smooth_df['Days'][1:], \n",
    "                smooth_df['Deaths'].values[1:] - smooth_df['Deaths'].values[:-1],\n",
    "                s=100, alpha=0.5)\n",
    "plt.show()\n"
   ]
  },
  {
   "cell_type": "code",
   "execution_count": null,
   "metadata": {},
   "outputs": [],
   "source": [
    "plot_loc = 553\n",
    "df = pd.read_csv('/ihme/covid-19/model-inputs/best/full_data.csv')\n",
    "df['Date'] = pd.to_datetime(df['Date'])\n",
    "df.loc[df['Death rate'] == 0, 'Death rate'] = 0.1 / df['population']\n",
    "df['ln(death rate)'] = np.log(df['Death rate'])\n",
    "df = df.loc[df['Country/Region'] == 'United States of America']\n",
    "df = df.loc[df['location_id'] != 102]\n",
    "df['location_id'] = df['location_id'].astype(int)\n",
    "df['Location'] = df['Province/State']\n",
    "df = df.loc[df['location_id'].isin([plot_loc, 555])].reset_index(drop=True)\n",
    "df['min_date'] = df.groupby('location_id', as_index=False).Date.transform(min)\n",
    "df['Days'] = df.apply(lambda x: (x['Date'] - x['min_date']).days, axis=1)\n",
    "df['max_days'] = df.groupby('location_id', as_index=False).Days.transform(max)\n",
    "\n",
    "plt.figure(figsize=(11, 8.5))\n",
    "plt.scatter(df.loc[df['location_id'] == plot_loc, 'Days'][1:], \n",
    "            df.loc[df['location_id'] == plot_loc, 'Deaths'].values[1:] - \\\n",
    "            df.loc[df['location_id'] == plot_loc, 'Deaths'].values[:-1],\n",
    "            s=100)\n",
    "for n_drop in range(7):\n",
    "    smooth_df = add_moving_average_rates(df.loc[df['Days'] <= df['max_days'] - n_drop], 'ln(death rate)', -np.inf, 10)\n",
    "    smooth_df = smooth_df.loc[smooth_df['location_id'] == plot_loc]\n",
    "    smooth_df['Deaths'] = np.exp(smooth_df['ln(death rate)']) * smooth_df['population']\n",
    "    plt.scatter(smooth_df['Days'][1:], \n",
    "                smooth_df['Deaths'].values[1:] - smooth_df['Deaths'].values[:-1],\n",
    "                s=100, alpha=0.5)\n",
    "plt.show()\n"
   ]
  },
  {
   "cell_type": "code",
   "execution_count": null,
   "metadata": {},
   "outputs": [],
   "source": []
  }
 ],
 "metadata": {
  "kernelspec": {
   "display_name": "Python 3",
   "language": "python",
   "name": "python3"
  },
  "language_info": {
   "codemirror_mode": {
    "name": "ipython",
    "version": 3
   },
   "file_extension": ".py",
   "mimetype": "text/x-python",
   "name": "python",
   "nbconvert_exporter": "python",
   "pygments_lexer": "ipython3",
   "version": "3.6.10"
  }
 },
 "nbformat": 4,
 "nbformat_minor": 4
}
