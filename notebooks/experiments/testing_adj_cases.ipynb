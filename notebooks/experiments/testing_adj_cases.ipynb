{
 "cells": [
  {
   "cell_type": "code",
   "execution_count": null,
   "metadata": {},
   "outputs": [],
   "source": [
    "import pandas as pd\n",
    "import matplotlib.pyplot as plt\n",
    "\n",
    "from db_queries import get_location_metadata"
   ]
  },
  {
   "cell_type": "code",
   "execution_count": null,
   "metadata": {},
   "outputs": [],
   "source": [
    "loc_df = get_location_metadata(location_set_id=111, location_set_version_id=655)\n",
    "df = pd.read_csv('/ihme/homes/rmbarber/covid-19/testing_effect_2020_05_11.csv')\n",
    "df['Date'] = pd.to_datetime(df['Date'])"
   ]
  },
  {
   "cell_type": "code",
   "execution_count": null,
   "metadata": {},
   "outputs": [],
   "source": [
    "for location_id in df.location_id.unique():\n",
    "    location_name = loc_df.loc[loc_df['location_id'] == location_id, 'location_name'].item()\n",
    "\n",
    "    plot_df = df.loc[df['location_id'] == location_id]\n",
    "\n",
    "    plt.figure(figsize=(11, 8.5))\n",
    "    plt.plot(plot_df['Date'], plot_df['Daily case rate'] * plot_df['population'])\n",
    "    plt.plot(plot_df['Date'], plot_df['Adjusted daily case rate'] * plot_df['population'])\n",
    "    plt.title(location_name)\n",
    "    plt.show()\n"
   ]
  },
  {
   "cell_type": "code",
   "execution_count": null,
   "metadata": {},
   "outputs": [],
   "source": [
    "plot_df.columns"
   ]
  },
  {
   "cell_type": "code",
   "execution_count": null,
   "metadata": {},
   "outputs": [],
   "source": []
  }
 ],
 "metadata": {
  "kernelspec": {
   "display_name": "Python 3",
   "language": "python",
   "name": "python3"
  },
  "language_info": {
   "codemirror_mode": {
    "name": "ipython",
    "version": 3
   },
   "file_extension": ".py",
   "mimetype": "text/x-python",
   "name": "python",
   "nbconvert_exporter": "python",
   "pygments_lexer": "ipython3",
   "version": "3.6.10"
  }
 },
 "nbformat": 4,
 "nbformat_minor": 4
}
