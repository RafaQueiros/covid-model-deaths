{
 "cells": [
  {
   "cell_type": "code",
   "execution_count": null,
   "metadata": {},
   "outputs": [],
   "source": [
    "import pandas as pd\n",
    "from db_queries import get_location_metadata\n",
    "\n",
    "import warnings\n",
    "warnings.simplefilter('ignore')\n"
   ]
  },
  {
   "cell_type": "markdown",
   "metadata": {},
   "source": [
    "## get pct change in predicted deaths"
   ]
  },
  {
   "cell_type": "code",
   "execution_count": null,
   "metadata": {},
   "outputs": [],
   "source": [
    "loc_df = get_location_metadata(location_set_id=111, location_set_version_id=664)\n",
    "us_locs = loc_df.loc[loc_df['path_to_top_parent'].str.startswith('102,'), 'location_id'].to_list()\n",
    "wa_locs = loc_df.loc[loc_df['path_to_top_parent'].str.startswith('102,570'), 'location_id'].to_list()\n",
    "\n",
    "df = pd.read_csv('/ihme/covid-19/deaths/dev/2020_05_16_mrtool/model_results.csv')\n",
    "df = df.loc[df['location_id'].isin(us_locs)].reset_index(drop=True)\n",
    "df['date'] = pd.to_datetime(df['date'])\n",
    "df.loc[df['location_id'].isin(wa_locs), 'location_id'] = 570\n",
    "df = df.groupby(['location_id', 'date'], as_index=False)[[f'draw_{d}' for d in range(1000)]].sum()\n",
    "df['date'] = df['date'].apply(lambda x: x - pd.Timedelta(days=8))\n",
    "df['mean_deaths'] = np.nan\n",
    "df['mean_deaths'][1:] = np.diff(df[[f'draw_{d}' for d in range(1000)]], axis=0).mean(axis=1)\n",
    "df = df.loc[df['date'] != df.groupby('location_id')['date'].transform(min)]\n",
    "\n",
    "a26_idx = df['date'] == pd.to_datetime('2020-04-26')\n",
    "m07_idx = df['date'] == pd.to_datetime('2020-05-07')\n",
    "last_idx = df['date'] == df.groupby('location_id')['date'].transform(max)\n",
    "\n",
    "df = df.loc[a26_idx | m07_idx | last_idx, ['location_id', 'date', 'mean_deaths']]\n",
    "df['last_day_of_data'] = df.groupby('location_id')['date'].transform(max)\n",
    "df['date'] = df['date'].apply(lambda x: 'april26' if x == pd.to_datetime('2020-04-26') \n",
    "                                       else 'may07' if x == pd.to_datetime('2020-05-07')\n",
    "                                       else 'last'\n",
    "                             )\n",
    "\n",
    "df = pd.pivot_table(df, index=['location_id', 'last_day_of_data'], values=['mean_deaths'], columns='date').reset_index()\n",
    "df.columns = df.columns.get_level_values(0)[:2].to_list() + df.columns.get_level_values(1)[2:].to_list()\n",
    "\n",
    "df['pct_change_april26_may07'] = ((df['may07'] - df['april26']) / df['april26']) * 100\n",
    "df['pct_change_may07_lastday'] = ((df['last'] - df['may07']) / df['may07']) * 100\n",
    "\n",
    "df = loc_df[['location_id', 'location_name']].merge(\n",
    "    df[['location_id', 'last_day_of_data', 'pct_change_april26_may07', 'pct_change_may07_lastday']]\n",
    ")\n",
    "\n",
    "df.to_csv('/ihme/covid-19/deaths/dev/2020_05_16_mrtool/pct_change_april26_may07_lastday.csv', index=False)\n"
   ]
  },
  {
   "cell_type": "code",
   "execution_count": null,
   "metadata": {},
   "outputs": [],
   "source": [
    "df"
   ]
  },
  {
   "cell_type": "code",
   "execution_count": null,
   "metadata": {},
   "outputs": [],
   "source": []
  }
 ],
 "metadata": {
  "kernelspec": {
   "display_name": "Python 3",
   "language": "python",
   "name": "python3"
  },
  "language_info": {
   "codemirror_mode": {
    "name": "ipython",
    "version": 3
   },
   "file_extension": ".py",
   "mimetype": "text/x-python",
   "name": "python",
   "nbconvert_exporter": "python",
   "pygments_lexer": "ipython3",
   "version": "3.6.10"
  }
 },
 "nbformat": 4,
 "nbformat_minor": 4
}
