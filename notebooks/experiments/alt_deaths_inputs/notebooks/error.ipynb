{
 "cells": [
  {
   "cell_type": "code",
   "execution_count": null,
   "metadata": {},
   "outputs": [],
   "source": [
    "import pandas as pd\n",
    "import matplotlib.pyplot as plt\n",
    "\n",
    "from db_queries import get_location_metadata\n",
    "\n",
    "import warnings\n",
    "warnings.simplefilter('ignore')\n"
   ]
  },
  {
   "cell_type": "code",
   "execution_count": null,
   "metadata": {},
   "outputs": [],
   "source": [
    "loc_df = get_location_metadata(location_set_id=111, location_set_version_id=677)\n",
    "loc_df = loc_df.loc[(loc_df['path_to_top_parent'].str.startswith('102,')) & (loc_df['most_detailed'] == 1), \n",
    "                    ['location_id', 'location_name']]\n",
    "\n",
    "est_dfs = []\n",
    "for i in range(7):\n",
    "    est_df = pd.read_csv(f'/ihme/covid-19/deaths/dev/2020_05_23_cfrmod_sub{i+8}/model_results.csv')\n",
    "    est_df['date'] = pd.to_datetime(est_df['date'])\n",
    "    est_df['Predicted deaths'] = np.nan\n",
    "    est_df['Predicted deaths'][1:] = np.diff(est_df[[f'draw_{d}' for d in range(1000)]], axis=0).mean(axis=1)\n",
    "    est_df = est_df.loc[est_df['date'] > est_df.groupby('location_id')['date'].transform('max') - pd.Timedelta(days=8)]\n",
    "    est_dfs.append(est_df[['location_id', 'date', 'Predicted deaths']])\n",
    "\n",
    "data_df = pd.read_csv('/ihme/covid-19/deaths/dev/2020_05_23_cfrmod/model_data.csv')\n",
    "data_df['date'] = pd.to_datetime(data_df['Date'])\n",
    "data_df['Observed deaths'] = np.nan\n",
    "data_df['Observed deaths'][1:] = np.diff(data_df['Death rate'] * data_df['population'])\n",
    "data_df = data_df[['location_id', 'date', 'Observed deaths']]\n",
    "\n",
    "df = data_df.merge(est_df)\n",
    "df = loc_df.merge(df)\n",
    "df = df.loc[~df['Observed deaths'].isnull()]\n"
   ]
  },
  {
   "cell_type": "code",
   "execution_count": null,
   "metadata": {},
   "outputs": [],
   "source": []
  },
  {
   "cell_type": "code",
   "execution_count": null,
   "metadata": {},
   "outputs": [],
   "source": [
    "df = df.groupby('location_name', as_index=False)['Observed deaths', 'Predicted deaths'].sum()"
   ]
  },
  {
   "cell_type": "code",
   "execution_count": null,
   "metadata": {},
   "outputs": [],
   "source": [
    "plt.scatter(np.log(df['Observed deaths']),\n",
    "            np.log(df['Predicted deaths']))\n",
    "plt.plot(np.log((1, 1400)), np.log((1, 1400)), color='red')\n",
    "plt.yticks(np.arange(0, 8), np.exp(np.arange(0, 8)).astype(int))\n",
    "plt.xticks(np.arange(0, 8), np.exp(np.arange(0, 8)).astype(int))\n",
    "plt.xlabel('Observed')\n",
    "plt.ylabel('Predicted')\n",
    "plt.show()"
   ]
  },
  {
   "cell_type": "code",
   "execution_count": null,
   "metadata": {},
   "outputs": [],
   "source": []
  }
 ],
 "metadata": {
  "kernelspec": {
   "display_name": "Python 3",
   "language": "python",
   "name": "python3"
  },
  "language_info": {
   "codemirror_mode": {
    "name": "ipython",
    "version": 3
   },
   "file_extension": ".py",
   "mimetype": "text/x-python",
   "name": "python",
   "nbconvert_exporter": "python",
   "pygments_lexer": "ipython3",
   "version": "3.6.10"
  }
 },
 "nbformat": 4,
 "nbformat_minor": 4
}
