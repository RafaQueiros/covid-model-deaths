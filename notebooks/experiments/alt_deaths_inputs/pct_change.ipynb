{
 "cells": [
  {
   "cell_type": "code",
   "execution_count": null,
   "metadata": {},
   "outputs": [],
   "source": [
    "import pandas as pd\n",
    "from db_queries import get_location_metadata\n",
    "\n",
    "import warnings\n",
    "warnings.simplefilter('ignore')\n"
   ]
  },
  {
   "cell_type": "markdown",
   "metadata": {},
   "source": [
    "## get pct change in predicted deaths"
   ]
  },
  {
   "cell_type": "code",
   "execution_count": null,
   "metadata": {},
   "outputs": [],
   "source": [
    "loc_df = get_location_metadata(location_set_id=111, location_set_version_id=664)\n",
    "us_locs = loc_df.loc[loc_df['path_to_top_parent'].str.startswith('102,'), 'location_id'].to_list()\n",
    "\n",
    "df = pd.read_csv('/ihme/covid-19/deaths/dev/2020_05_16_mrtool/model_results.csv')\n",
    "df = df.loc[df['location_id'].isin(us_locs)]\n",
    "df['date'] = pd.to_datetime(df['date'])\n",
    "df['date'] = df['date'].apply(lambda x: x - pd.Timedelta(days=8))\n",
    "df['mean_deaths'] = np.nan\n",
    "df['mean_deaths'][1:] = np.diff(df[[f'draw_{d}' for d in range(1000)]], axis=0).mean(axis=1)\n",
    "df = df.loc[df['date'] != df.groupby('location_id')['date'].transform(min)]\n",
    "\n",
    "start_idx = df['date'] == pd.to_datetime('2020-05-10')\n",
    "end_idx = df['date'] == df.groupby('location_id')['date'].transform(max)\n",
    "\n",
    "df = df.loc[start_idx | end_idx, ['location_id', 'date', 'mean_deaths']]\n",
    "df['last_day_of_data'] = df.groupby('location_id')['date'].transform(max)\n",
    "df['date'] = df['date'].apply(lambda x: 'start' if x == pd.to_datetime('2020-05-10') else 'end')\n",
    "\n",
    "df = pd.pivot_table(df, index=['location_id', 'last_day_of_data'], values=['mean_deaths'], columns='date').reset_index()\n",
    "df.columns = df.columns.get_level_values(0)[:2].to_list() + df.columns.get_level_values(1)[2:].to_list()\n",
    "\n",
    "df['pct_change_0510'] = ((df['end'] - df['start']) / df['start']) * 100\n",
    "\n",
    "df = loc_df[['location_id', 'location_name']].merge(df[['location_id', 'last_day_of_data', 'pct_change_0510']])\n",
    "\n",
    "df.to_csv('/ihme/covid-19/deaths/dev/2020_05_16_mrtool/pct_change_0510.csv', index=False)\n"
   ]
  },
  {
   "cell_type": "code",
   "execution_count": null,
   "metadata": {},
   "outputs": [],
   "source": [
    "df"
   ]
  },
  {
   "cell_type": "code",
   "execution_count": null,
   "metadata": {},
   "outputs": [],
   "source": []
  }
 ],
 "metadata": {
  "kernelspec": {
   "display_name": "Python 3",
   "language": "python",
   "name": "python3"
  },
  "language_info": {
   "codemirror_mode": {
    "name": "ipython",
    "version": 3
   },
   "file_extension": ".py",
   "mimetype": "text/x-python",
   "name": "python",
   "nbconvert_exporter": "python",
   "pygments_lexer": "ipython3",
   "version": "3.6.10"
  }
 },
 "nbformat": 4,
 "nbformat_minor": 4
}
