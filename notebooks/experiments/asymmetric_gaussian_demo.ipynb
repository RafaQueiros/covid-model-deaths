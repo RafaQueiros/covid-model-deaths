{
 "cells": [
  {
   "cell_type": "markdown",
   "metadata": {},
   "source": [
    "# Asymmetric Gaussian Demo"
   ]
  },
  {
   "cell_type": "code",
   "execution_count": 1,
   "metadata": {},
   "outputs": [],
   "source": [
    "import numpy as np\n",
    "import pandas as pd\n",
    "import matplotlib.pyplot as plt\n",
    "from curvefit.core.functions import *\n",
    "from curvefit.core.model import CurveModel"
   ]
  },
  {
   "cell_type": "markdown",
   "metadata": {},
   "source": [
    "## Simulate Data"
   ]
  },
  {
   "cell_type": "code",
   "execution_count": 2,
   "metadata": {},
   "outputs": [],
   "source": [
    "t = np.linspace(0.0, 100.0, 101)\n",
    "params = np.array([0.1, 50.0, 1.0, 0.5])"
   ]
  },
  {
   "cell_type": "code",
   "execution_count": 3,
   "metadata": {},
   "outputs": [],
   "source": [
    "y = ln_asym_gaussian_pdf(t, params)\n",
    "y_obs = y + np.random.randn(y.size)*0.1"
   ]
  },
  {
   "cell_type": "code",
   "execution_count": 6,
   "metadata": {},
   "outputs": [
    {
     "data": {
      "text/plain": [
       "[<matplotlib.lines.Line2D at 0x2ae02d1c2fd0>]"
      ]
     },
     "execution_count": 6,
     "metadata": {},
     "output_type": "execute_result"
    },
    {
     "data": {
      "image/png": "[encoded data removed]",
      "text/plain": [
       "<Figure size 432x288 with 1 Axes>"
      ]
     },
     "metadata": {
      "needs_background": "light"
     },
     "output_type": "display_data"
    }
   ],
   "source": [
    "plt.plot(t, y)\n",
    "plt.plot(t, y_obs, '.')"
   ]
  },
  {
   "cell_type": "markdown",
   "metadata": {},
   "source": [
    "## Create and fit Curvefit model"
   ]
  },
  {
   "cell_type": "code",
   "execution_count": 7,
   "metadata": {},
   "outputs": [],
   "source": [
    "df = pd.DataFrame({\n",
    "    't': t,\n",
    "    'obs': y_obs,\n",
    "    'intercept': np.ones(t.size),\n",
    "    'group': 'A',\n",
    "})"
   ]
  },
  {
   "cell_type": "code",
   "execution_count": 8,
   "metadata": {},
   "outputs": [],
   "source": [
    "param_names = ['alpha', 'beta', 'p', 'r']\n",
    "link_fun = [np.exp, lambda x: x, np.exp, np.exp]\n",
    "var_link_fun = [lambda x: x]*4\n",
    "fun = ln_asym_gaussian_pdf"
   ]
  },
  {
   "cell_type": "code",
   "execution_count": 9,
   "metadata": {},
   "outputs": [],
   "source": [
    "model = CurveModel(\n",
    "    df,\n",
    "    col_t='t',\n",
    "    col_obs='obs',\n",
    "    col_covs=[['intercept'], ['intercept'], ['intercept'], ['intercept']],\n",
    "    col_group='group',\n",
    "    param_names=param_names,\n",
    "    link_fun=link_fun,\n",
    "    var_link_fun=var_link_fun,\n",
    "    fun=fun\n",
    ")"
   ]
  },
  {
   "cell_type": "code",
   "execution_count": 10,
   "metadata": {},
   "outputs": [],
   "source": [
    "model.fit_params(fe_init=params,\n",
    "                 fe_bounds=[[-np.inf, 0.0], [-np.inf, np.inf], [-np.inf, 0.0], [-np.inf, 0.0]],\n",
    "                 re_bounds=[[0.0, 0.0], [0.0, 0.0], [0.0, 0.0], [0.0, 0.0]],\n",
    "                 options={'disp': True})"
   ]
  },
  {
   "cell_type": "code",
   "execution_count": 11,
   "metadata": {},
   "outputs": [
    {
     "name": "stdout",
     "output_type": "stream",
     "text": [
      "[[ 0.0996798 ]\n",
      " [50.11785305]\n",
      " [ 1.        ]\n",
      " [ 0.50441713]]\n"
     ]
    }
   ],
   "source": [
    "print(model.params)"
   ]
  },
  {
   "cell_type": "code",
   "execution_count": null,
   "metadata": {},
   "outputs": [],
   "source": []
  }
 ],
 "metadata": {
  "kernelspec": {
   "display_name": "Python 3",
   "language": "python",
   "name": "python3"
  },
  "language_info": {
   "codemirror_mode": {
    "name": "ipython",
    "version": 3
   },
   "file_extension": ".py",
   "mimetype": "text/x-python",
   "name": "python",
   "nbconvert_exporter": "python",
   "pygments_lexer": "ipython3",
   "version": "3.6.10"
  }
 },
 "nbformat": 4,
 "nbformat_minor": 4
}
