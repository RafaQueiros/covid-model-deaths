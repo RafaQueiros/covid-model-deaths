{
 "cells": [
  {
   "cell_type": "code",
   "execution_count": null,
   "metadata": {},
   "outputs": [],
   "source": [
    "from datetime import datetime, timedelta\n",
    "\n",
    "import pandas as pd\n",
    "\n",
    "from covid_model_deaths.data import get_input_data\n",
    "\n",
    "# DCR_FILE = '/home/j/temp/reed/misc/data_dcr_lag8.csv'\n",
    "DCR_FILE = '/home/j/temp/reed/misc/data_dcr_lag8_all_locs_deaths_gte10_v3.csv'\n",
    "DCR_MEAN_FILE = '/home/j/temp/reed/misc/data_dcr_lag8_overall_mean_v3.csv'\n"
   ]
  },
  {
   "cell_type": "markdown",
   "metadata": {},
   "source": [
    "## Load case data and attach `Days` column for averaging"
   ]
  },
  {
   "cell_type": "code",
   "execution_count": null,
   "metadata": {},
   "outputs": [],
   "source": [
    "df = get_input_data('full_data')\n",
    "df = df.loc[df['Country/Region'] != 'Georgia']\n",
    "df.loc[df['Province/State'].isnull(), 'Province/State'] = df['Country/Region']\n",
    "df['location_id'] = df['location_id'].astype(int)\n",
    "df = df.rename(index=str, columns={'Province/State':'Location'})\n",
    "df['day0'] = df.groupby('location_id', as_index=False)['Date'].transform(min)\n",
    "df['Days'] = df['Date'] - df['day0']\n",
    "df['Days'] = df['Days'].apply(lambda x: x.days)\n",
    "df.loc[df['Confirmed case rate'] == 0, 'Confirmed case rate'] = 1e-16\n",
    "df['ln(confirmed case rate)'] = np.log(df['Confirmed case rate'])\n",
    "df = df[['location_id', 'Location', 'Country/Region', 'Date', 'Days', 'ln(confirmed case rate)', 'population']]\n",
    "df = df.sort_values(['location_id', 'Date']).reset_index(drop=True)\n",
    "df.head()\n"
   ]
  },
  {
   "cell_type": "markdown",
   "metadata": {},
   "source": [
    "## Do averaging"
   ]
  },
  {
   "cell_type": "code",
   "execution_count": null,
   "metadata": {},
   "outputs": [],
   "source": [
    "def _moving_average_cases(df):\n",
    "    if df.location_id.unique().size != 1:\n",
    "        raise ValueError('Multiple locations in dataset.')\n",
    "    if df['Days'].min() != 0:\n",
    "        raise ValueError('Not starting at 0')\n",
    "    df = df.merge(pd.DataFrame({'Days': np.arange(df['Days'].min(), df['Days'].max()+1)}), how='outer')\n",
    "    df = df.sort_values('Days').reset_index(drop=True)\n",
    "    df.loc[df['Date'].isnull(), 'Date'] = (df.loc[df['Date'].isnull(), 'Days']\n",
    "                                           .apply(lambda x: df['Date'].min() + timedelta(days=x)))\n",
    "    # TODO: Document.\n",
    "    df = df.fillna(method='pad')\n",
    "    df['location_id'] = df['location_id'].astype(int)\n",
    "\n",
    "    # FIXME: Shadowing variable from outer scope.  Make a separate\n",
    "    #  function.\n",
    "    def moving_3day_avg(day, df, measure):\n",
    "        # determine difference\n",
    "        days = np.array([day-1, day, day+1])\n",
    "        days = days[days >= 0]\n",
    "        days = days[days <= df['Days'].max()]\n",
    "        avg = df.loc[df['Days'].isin(days), measure].mean()\n",
    "\n",
    "        return avg\n",
    "\n",
    "    # get diffs\n",
    "    avgs = [moving_3day_avg(i, df, 'ln(confirmed case rate)') for i in df['Days']]\n",
    "    df['Observed ln(confirmed case rate)'] = df['ln(confirmed case rate)']\n",
    "    df['ln(confirmed case rate)'] = avgs\n",
    "\n",
    "    # replace last point w/ daily value over 3->2 and 2->1 and the first\n",
    "    # with 1->2, 2->3; use observed if 3 data points or less\n",
    "    if len(df) > 3:\n",
    "        last_step = np.mean(np.array(avgs[-3:-1]) - np.array(avgs[-4:-2]))\n",
    "        df['ln(confirmed case rate)'][len(df)-1] = (df['ln(confirmed case rate)'][len(df)-2]\n",
    "                                                            + last_step)\n",
    "        first_step = np.mean(np.array(avgs[2:4]) - np.array(avgs[1:3]))\n",
    "        df['ln(confirmed case rate)'][0] = df['ln(confirmed case rate)'][1] - first_step\n",
    "    else:\n",
    "        df['ln(confirmed case rate)'] = df['Observed ln(confirmed case rate)']\n",
    "\n",
    "    return df\n",
    "loc_dfs = [df.loc[df['location_id'] == l].reset_index(drop=True) for l in df.location_id.unique()]\n",
    "loc_df = pd.concat([_moving_average_cases(loc_df) for loc_df in loc_dfs])\n",
    "loc_df = loc_df.loc[~loc_df['ln(confirmed case rate)'].isnull()]\n",
    "loc_df.head()\n"
   ]
  },
  {
   "cell_type": "markdown",
   "metadata": {},
   "source": [
    "## get reads data and use it to produce deaths from smoothed cases\n",
    "#### call it ln(asdr) just to make it compatible with data we will have in death model"
   ]
  },
  {
   "cell_type": "code",
   "execution_count": null,
   "metadata": {},
   "outputs": [],
   "source": [
    "# location-specific dataset\n",
    "dcr_df = pd.read_csv(DCR_FILE)\n",
    "dcr_df = dcr_df.loc[dcr_df['Country.Region'] != 'Georgia']\n",
    "dcr_df = dcr_df[['location_id', 'dcr_lag8']]\n",
    "\n",
    "# use average for all locations that don't have specific\n",
    "dcr_mean_df = pd.read_csv(DCR_MEAN_FILE)\n",
    "for location_id in [i for i in loc_df['location_id'].unique() if i not in dcr_df['location_id'].to_list()]:\n",
    "    _dcr_df = dcr_mean_df.copy()\n",
    "    _dcr_df['location_id'] = location_id\n",
    "    dcr_df = dcr_df.append(_dcr_df[['location_id', 'dcr_lag8']])\n",
    "dcr_df = dcr_df.reset_index(drop=True)\n",
    "\n",
    "# manually fix Iceland (this is their ratio on 04/16)\n",
    "dcr_df.loc[dcr_df['location_id'] == 83, 'dcr_lag8'] = 8.0 / 1616.0\n",
    "\n",
    "death_df = loc_df.merge(dcr_df[['location_id', 'dcr_lag8']])\n",
    "death_df['Confirmed case rate'] = np.exp(death_df['ln(confirmed case rate)'])\n",
    "death_df['Death rate'] = death_df['Confirmed case rate'] * death_df['dcr_lag8']\n",
    "death_df['ln(age-standardized death rate)'] = np.log(death_df['Death rate'])\n",
    "\n",
    "# shift data forward 8 days\n",
    "death_df['Date'] = death_df['Date'].apply(lambda x: x + timedelta(days=8))\n",
    "death_df = death_df[['location_id', 'Location', 'Country/Region', 'Date', 'ln(age-standardized death rate)']]\n",
    "\n",
    "# save data\n",
    "death_df.to_csv(f\"/ihme/covid-19/deaths/mobility_inputs/{datetime.now().strftime('%Y_%m_%d')}/deaths_from_cases.csv\", \n",
    "                index=False)\n",
    "death_df.head()\n"
   ]
  },
  {
   "cell_type": "code",
   "execution_count": null,
   "metadata": {},
   "outputs": [],
   "source": []
  }
 ],
 "metadata": {
  "kernelspec": {
   "display_name": "Python 3",
   "language": "python",
   "name": "python3"
  },
  "language_info": {
   "codemirror_mode": {
    "name": "ipython",
    "version": 3
   },
   "file_extension": ".py",
   "mimetype": "text/x-python",
   "name": "python",
   "nbconvert_exporter": "python",
   "pygments_lexer": "ipython3",
   "version": "3.6.10"
  }
 },
 "nbformat": 4,
 "nbformat_minor": 4
}
