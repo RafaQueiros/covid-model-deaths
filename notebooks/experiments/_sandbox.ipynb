{
 "cells": [
  {
   "cell_type": "markdown",
   "metadata": {},
   "source": [
    "## Weights from GM model"
   ]
  },
  {
   "cell_type": "code",
   "execution_count": null,
   "metadata": {
    "jupyter": {
     "outputs_hidden": true
    }
   },
   "outputs": [],
   "source": [
    "import dill as pickle\n",
    "import matplotlib.pyplot as plt\n",
    "\n",
    "from db_queries import get_location_metadata\n",
    "\n",
    "loc_df = get_location_metadata(location_set_version_id=630, location_set_id=111)\n",
    "loc_df = loc_df.loc[loc_df['path_to_top_parent'].str.startswith('102,')]\n",
    "loc_df = loc_df.loc[loc_df['most_detailed'] == 1]\n",
    "loc_df = loc_df.loc[~loc_df['location_id'].isin([573, 60406])]\n",
    "loc_id = 555\n",
    "\n",
    "plt.figure(figsize=(16.5, 11))\n",
    "for loc_id in loc_df.location_id:\n",
    "    with open(f'/ihme/covid-19/deaths/dev/2020_04_25_US_point/model_data_google_21/{loc_id}/gaussian_mixtures.pkl', 'rb') as fopen:\n",
    "        gm = pickle.load(fopen)\n",
    "\n",
    "    plt.scatter(np.arange(gm[f'_{loc_id}'].weights.size),\n",
    "                gm[f'_{loc_id}'].weights, \n",
    "                label = f\"{loc_df.loc[loc_df['location_id'] == loc_id, 'location_name'].item()}:{np.round(gm[f'_{loc_id}'].weights.sum(), 3)}\")\n",
    "    plt.plot(np.arange(gm[f'_{loc_id}'].weights.size),\n",
    "                gm[f'_{loc_id}'].weights)\n",
    "plt.legend(loc='upper center', bbox_to_anchor=(0.5, -0.05), ncol=6)\n",
    "plt.show()\n"
   ]
  },
  {
   "cell_type": "markdown",
   "metadata": {},
   "source": [
    "## Play around with down-sampling"
   ]
  },
  {
   "cell_type": "code",
   "execution_count": null,
   "metadata": {},
   "outputs": [],
   "source": [
    "import os\n",
    "\n",
    "import dill as pickle\n",
    "\n",
    "import numpy as np\n",
    "import pandas as pd\n",
    "\n",
    "from scipy.signal import resample\n",
    "\n",
    "import matplotlib.pyplot as plt\n",
    "\n",
    "\n",
    "location_name = 'California'\n",
    "location_id = '_527'\n",
    "pop = 36.9e6\n",
    "n_draws = 111\n",
    "\n",
    "with open(f'/ihme/covid-19/deaths/prod/2020_04_13_US/model_data_equal_21/{location_name}/draws.pkl', 'rb') as fopen:\n",
    "    draws = pickle.load(fopen)\n",
    "\n",
    "orig_draws = np.exp(draws[location_id][1]) * pop\n",
    "# ds_draws = np.arange(orig_draws.shape[0], step=orig_draws.shape[0]/n_draws)\n",
    "# ds_draws = [int(i) for i in ds_draws]\n",
    "# assert len(ds_draws) == n_draws, 'Draw length not correct.'\n",
    "# downsample_draws = orig_draws[ds_draws]\n",
    "downsample_draws = resample(orig_draws, n_draws, axis=0)\n",
    "downsample_draws = downsample_draws[np.argsort(downsample_draws[:,-1]),:]\n",
    "\n",
    "orig_draws = orig_draws[:,1:] - orig_draws[:,:-1]\n",
    "downsample_draws = downsample_draws[:,1:] - downsample_draws[:,:-1]\n",
    "\n",
    "plt.figure(figsize=(11, 8.5))\n",
    "plt.fill_between(draws[location_id][0][1:],\n",
    "                np.percentile(orig_draws, 2.5, axis=0),\n",
    "                np.percentile(orig_draws, 97.5, axis=0),\n",
    "                color='dodgerblue', alpha=0.5)\n",
    "plt.plot(draws[location_id][0][1:],\n",
    "         orig_draws.mean(axis=0), color='dodgerblue', label='Full draws')\n",
    "plt.fill_between(draws[location_id][0][1:],\n",
    "                np.percentile(downsample_draws, 2.5, axis=0),\n",
    "                np.percentile(downsample_draws, 97.5, axis=0),\n",
    "                color='firebrick', alpha=0.5)\n",
    "plt.plot(draws[location_id][0][1:],\n",
    "         downsample_draws.mean(axis=0), color='firebrick', label='Downsampled draws', linestyle='--')\n",
    "plt.legend(loc=2)\n",
    "plt.show()\n"
   ]
  },
  {
   "cell_type": "code",
   "execution_count": null,
   "metadata": {},
   "outputs": [],
   "source": [
    "?resample"
   ]
  },
  {
   "cell_type": "markdown",
   "metadata": {},
   "source": [
    "## plot peaks (should add data to this)"
   ]
  },
  {
   "cell_type": "code",
   "execution_count": null,
   "metadata": {},
   "outputs": [],
   "source": [
    "import matplotlib.pyplot as plt\n",
    "\n",
    "pred_df = pd.read_csv(f'{OUTPUT_DIR}/point_estimates.csv', index=False)\n",
    "pred_df['Date']\n",
    "peak_dates_df = pd.read_csv(f'{OUTPUT_DIR}/peak_dates.csv', index=False)\n",
    "\n",
    "for location_id in pred_df.location_id.unique():\n",
    "    plt.plot(pred_df.loc[pred_df['location_id'] == location_id, 'Date'],\n",
    "             pred_df.loc[pred_df['location_id'] == location_id, 'Daily death rate'],\n",
    "             color='dodgerblue')\n",
    "    plt.axvline(peak_dates_df.loc[peak_dates_df['location_id'] == location_id, 'Date'].item(),\n",
    "                color='red', linestyle='--')\n",
    "    plt.title(location_id)\n",
    "    plt.show()\n"
   ]
  },
  {
   "cell_type": "markdown",
   "metadata": {},
   "source": [
    "## plot raw + smoothed data, then predicted"
   ]
  },
  {
   "cell_type": "code",
   "execution_count": null,
   "metadata": {},
   "outputs": [],
   "source": [
    "location_id = 528\n",
    "\n",
    "draw_cols = [f'draw_{d}' for d in range(1000)]\n",
    "\n",
    "smooth_df = pd.read_csv('/ihme/covid-19/deaths/prod/2020_05_01_US_newmod/smoothed_state_data.csv')\n",
    "smooth_df = smooth_df.loc[smooth_df['location_id'] == location_id]\n",
    "smooth_df['date'] = pd.to_datetime(smooth_df['date'])\n",
    "smooth_df = smooth_df.sort_values('date').reset_index(drop=True)\n",
    "\n",
    "raw_df = pd.read_csv('/ihme/covid-19/deaths/prod/2020_05_01_US_newmod/state_data.csv')\n",
    "raw_df = raw_df.loc[raw_df['location_id'] == location_id]\n",
    "raw_df['date'] = pd.to_datetime(raw_df['date'])\n",
    "raw_df = raw_df.sort_values('date').reset_index(drop=True)\n",
    "\n",
    "smooth_delta = (smooth_df[draw_cols].values[1:] - smooth_df[draw_cols].values[:-1]).mean(axis=1)\n",
    "raw_delta = (raw_df[draw_cols].values[1:] - raw_df[draw_cols].values[:-1]).mean(axis=1)\n",
    "\n",
    "smooth_df['daily'] = np.nan\n",
    "smooth_df['daily'][1:] = smooth_delta\n",
    "raw_df['daily'] = np.nan\n",
    "raw_df['daily'][1:] = raw_delta\n",
    "\n",
    "smooth_df = smooth_df[['date', 'observed', 'daily']][1:].reset_index(drop=True)\n",
    "raw_df = raw_df[['date', 'observed', 'daily']][1:].reset_index(drop=True)\n",
    "\n",
    "pred_date = raw_df.loc[~raw_df['observed'], 'date'].min()\n",
    "\n",
    "import matplotlib.pyplot as plt\n",
    "\n",
    "plt.figure(figsize=(11, 8.5))\n",
    "plt.scatter(raw_df.loc[raw_df['date'] < pred_date, 'date'], \n",
    "            raw_df.loc[raw_df['date'] < pred_date, 'daily'], \n",
    "            c='dodgerblue', edgecolors='navy', alpha=0.5, s=200, label='raw')\n",
    "plt.scatter(smooth_df.loc[smooth_df['date'] < pred_date, 'date'], \n",
    "            smooth_df.loc[smooth_df['date'] < pred_date, 'daily'], \n",
    "            c='firebrick', edgecolors='maroon', alpha=0.5, s=200, label='smoothed')\n",
    "# plt.plot(smooth_df['date'], \n",
    "#          smooth_df['daily'], \n",
    "#          color='darkgrey', linestyle='--')\n",
    "plt.xticks(rotation=60)\n",
    "plt.legend(loc=2)\n",
    "plt.show()\n"
   ]
  },
  {
   "cell_type": "markdown",
   "metadata": {},
   "source": [
    "## look at testing effect"
   ]
  },
  {
   "cell_type": "code",
   "execution_count": null,
   "metadata": {
    "jupyter": {
     "outputs_hidden": true
    }
   },
   "outputs": [],
   "source": [
    "import matplotlib.pyplot as plt\n",
    "from matplotlib.backends.backend_pdf import PdfPages\n",
    "import pandas as pd\n",
    "pd.options.display.max_rows = 99\n",
    "pd.options.display.max_columns = 99\n",
    "from db_queries import get_location_metadata\n",
    "\n",
    "df = pd.read_csv('/ihme/homes/rmbarber/covid-19/testing_adjustment.csv')\n",
    "# df_1s = pd.read_csv('/ihme/homes/rmbarber/covid-19/testing_adjustment_1smooth.csv')\n",
    "# df_1s = df_1s.rename(index=str, columns={'Testing rate':'Testing rate (1 smooth)'})\n",
    "# df = df.merge(df_1s[['location_id', 'Date', 'Testing rate (1 smooth)']])\n",
    "df['Date'] = pd.to_datetime(df['Date'])\n",
    "data_date = pd.to_datetime('2020-05-02')\n",
    "\n",
    "loc_df = get_location_metadata(location_set_version_id=630, location_set_id=111)\n",
    "loc_df = loc_df.loc[(loc_df['parent_id'] == 102) & (loc_df['most_detailed'] == 1)]\n",
    "\n",
    "logit = lambda x: np.log(x / (1 - x))\n",
    "expit = lambda x: 1/(1 + np.exp(-x))\n",
    "\n",
    "logit_pos_int = -8.05\n",
    "logit_pos_logit_test = -0.78\n",
    "\n",
    "# with PdfPages('/ihme/homes/rmbarber/covid-19/testing_adjustment_04_29.pdf') as pdf:\n",
    "for location_id, location_name in zip(loc_df['location_id'], loc_df['location_name']):\n",
    "    plot_df = df.loc[df['location_id'] == location_id]\n",
    "    if any(~plot_df['Adjusted case rate'].isnull()):\n",
    "        plot_df = plot_df.sort_values('Date').reset_index(drop=True)\n",
    "\n",
    "        fig, ax = plt.subplots(2, 2, figsize=(16.5, 8.5))\n",
    "\n",
    "        # cumulative cases\n",
    "        ax[0,0].scatter(plot_df['Date'],\n",
    "                        plot_df['Confirmed'],\n",
    "                        c='dodgerblue', edgecolors='navy', s=200, alpha=0.5, label='raw')\n",
    "        ax[0,0].scatter(plot_df['Date'], \n",
    "                        plot_df['Confirmed case rate'] * plot_df['population'],\n",
    "                        c='firebrick', edgecolors='maroon', s=200, alpha=0.5, label='smoothed')\n",
    "        ax[0,0].scatter(plot_df['Date'], \n",
    "                        plot_df['Adjusted case rate'] * plot_df['population'],\n",
    "                        c='forestgreen', edgecolors='darkgreen', s=200, alpha=0.5, label='adjusted')\n",
    "        ax[0,0].axvline(data_date, color='black', linestyle='--', alpha=0.5)\n",
    "        ax[0,0].legend(loc=2)\n",
    "        ax[0,0].set_ylabel('Cases (cumulative)')\n",
    "\n",
    "        # daily case\n",
    "        ax[0,1].scatter(plot_df['Date'][1:], plot_df['Confirmed'].values[1:] - plot_df['Confirmed'].values[:-1],\n",
    "                    c='dodgerblue', edgecolors='navy', s=200, alpha=0.5)\n",
    "        ax[0,1].scatter(plot_df['Date'][1:], \n",
    "                    (plot_df['Confirmed case rate'] * plot_df['population']).values[1:] - \\\n",
    "                    (plot_df['Confirmed case rate'] * plot_df['population']).values[:-1],\n",
    "                    c='firebrick', edgecolors='maroon', s=200, alpha=0.5)\n",
    "        ax[0,1].scatter(plot_df['Date'][1:], \n",
    "                    (plot_df['Adjusted case rate'] * plot_df['population']).values[1:] - \\\n",
    "                    (plot_df['Adjusted case rate'] * plot_df['population']).values[:-1],\n",
    "                    c='forestgreen', edgecolors='darkgreen', s=200, alpha=0.5)\n",
    "        ax[0,1].axvline(data_date, color='black', linestyle='--', alpha=0.5)\n",
    "        ax[0,1].set_ylabel('Cases')\n",
    "        \n",
    "        # testing rates\n",
    "        # ax[1,0].plot(plot_df['Date'], \n",
    "        #              plot_df['Tests'].values,\n",
    "        #              color='dodgerblue', alpha=0.5)\n",
    "        # ax[1,0].plot(plot_df['Date'], \n",
    "        #              plot_df['Testing rate'] * plot_df['population'],\n",
    "        #              color='forestgreen', alpha=0.5)\n",
    "        ##\n",
    "        # ax[1,0].plot(plot_df['Date'][1:], \n",
    "        #            (plot_df['Testing rate (1 smooth)'] * plot_df['population']).values[1:] - \\\n",
    "        #            (plot_df['Testing rate (1 smooth)'] * plot_df['population']).values[:-1],\n",
    "        #            color='firebrick', alpha=0.5)\n",
    "        #\n",
    "        ax[1,0].plot(plot_df['Date'][1:], \n",
    "                   plot_df['Tests'].values[1:] - plot_df['Tests'].values[:-1],\n",
    "                   color='dodgerblue', alpha=0.5)\n",
    "        ax[1,0].plot(plot_df['Date'][1:], \n",
    "                   (plot_df['Testing rate'] * plot_df['population']).values[1:] - \\\n",
    "                   (plot_df['Testing rate'] * plot_df['population']).values[:-1],\n",
    "                   color='forestgreen', alpha=0.5)\n",
    "        ax[1,0].axvline(data_date, color='black', linestyle='--', alpha=0.5)\n",
    "        ax[1,0].set_ylabel('Tests')\n",
    "        \n",
    "        # positivity\n",
    "        t = plot_df['Testing rate'].values[1:] - plot_df['Testing rate'].values[:-1]\n",
    "        p = expit(logit_pos_int + logit_pos_logit_test * logit(t))\n",
    "        ax[1,1].plot(plot_df['Date'][1:], \n",
    "                     p,\n",
    "                     color='forestgreen', alpha=0.5)\n",
    "        ax[1,1].axvline(data_date, color='black', linestyle='--', alpha=0.5)\n",
    "        ax[1,1].set_ylabel('Positivity rate')\n",
    "\n",
    "        plt.suptitle(location_name, y=1.001)\n",
    "        plt.tight_layout()\n",
    "        #pdf.savefig()\n",
    "        plt.show()\n",
    "\n"
   ]
  },
  {
   "cell_type": "code",
   "execution_count": null,
   "metadata": {},
   "outputs": [],
   "source": [
    "df = pd.read_csv('/ihme/covid-19/deaths/dev/2020_05_01_US_smooth10_testcorr/leading_indicator.csv')"
   ]
  },
  {
   "cell_type": "code",
   "execution_count": null,
   "metadata": {},
   "outputs": [],
   "source": [
    "df.loc[df['location_id'] == 555]"
   ]
  },
  {
   "cell_type": "code",
   "execution_count": null,
   "metadata": {},
   "outputs": [],
   "source": []
  }
 ],
 "metadata": {
  "kernelspec": {
   "display_name": "Python 3",
   "language": "python",
   "name": "python3"
  },
  "language_info": {
   "codemirror_mode": {
    "name": "ipython",
    "version": 3
   },
   "file_extension": ".py",
   "mimetype": "text/x-python",
   "name": "python",
   "nbconvert_exporter": "python",
   "pygments_lexer": "ipython3",
   "version": "3.6.10"
  }
 },
 "nbformat": 4,
 "nbformat_minor": 4
}
